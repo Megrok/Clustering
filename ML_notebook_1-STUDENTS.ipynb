{
 "cells": [
  {
   "cell_type": "markdown",
   "id": "7f334b27",
   "metadata": {},
   "source": [
    "## NOTEBOOK 1\n",
    "STUDENT VERSION\n",
    "\n",
    "\n",
    "Please follow instructions below:"
   ]
  },
  {
   "cell_type": "code",
   "execution_count": 44,
   "id": "01980999",
   "metadata": {},
   "outputs": [],
   "source": [
    "import numpy as np\n",
    "import pandas as pd"
   ]
  },
  {
   "cell_type": "markdown",
   "id": "95082bc5",
   "metadata": {},
   "source": [
    " - Import IRIS dataset"
   ]
  },
  {
   "cell_type": "code",
   "execution_count": 47,
   "id": "fb6fcb21",
   "metadata": {},
   "outputs": [],
   "source": [
    "from sklearn import datasets\n",
    "iris = datasets.load_iris()"
   ]
  },
  {
   "cell_type": "markdown",
   "id": "a1454d51",
   "metadata": {},
   "source": [
    "- Assign target (y) and  explanatory variables (X) from iris data"
   ]
  },
  {
   "cell_type": "code",
   "execution_count": 1,
   "id": "136d8fc5",
   "metadata": {},
   "outputs": [],
   "source": [
    "#Data:\n"
   ]
  },
  {
   "cell_type": "markdown",
   "id": "4f845253",
   "metadata": {},
   "source": [
    "- Split into test/train dataset"
   ]
  },
  {
   "cell_type": "code",
   "execution_count": 5,
   "id": "4c2bc99a",
   "metadata": {},
   "outputs": [],
   "source": [
    "# Split into test/train dataset: you can use : test_size=0.3\n",
    "\n"
   ]
  },
  {
   "cell_type": "markdown",
   "id": "d74a2c22",
   "metadata": {},
   "source": [
    "- Creat logistic regression model"
   ]
  },
  {
   "cell_type": "code",
   "execution_count": 2,
   "id": "2d5b95f0",
   "metadata": {},
   "outputs": [],
   "source": [
    "# Creat logistic regression model:\n",
    "\n",
    "\n"
   ]
  },
  {
   "cell_type": "markdown",
   "id": "a23f7708",
   "metadata": {},
   "source": [
    "- fit model on your data:"
   ]
  },
  {
   "cell_type": "code",
   "execution_count": null,
   "id": "fb6168a3",
   "metadata": {},
   "outputs": [],
   "source": []
  },
  {
   "cell_type": "markdown",
   "id": "5dd7e6f0",
   "metadata": {},
   "source": [
    " - Create predictions:"
   ]
  },
  {
   "cell_type": "code",
   "execution_count": null,
   "id": "1ee42534",
   "metadata": {},
   "outputs": [],
   "source": [
    "#Create predictions:\n"
   ]
  },
  {
   "cell_type": "markdown",
   "id": "2ea65c88",
   "metadata": {},
   "source": [
    " - print coefficients and intercept:"
   ]
  },
  {
   "cell_type": "code",
   "execution_count": 3,
   "id": "31dc307d",
   "metadata": {},
   "outputs": [],
   "source": [
    "#print coefficients and intercept:\n",
    "\n"
   ]
  },
  {
   "cell_type": "markdown",
   "id": "e5dd8306",
   "metadata": {},
   "source": [
    "- check accuracy score"
   ]
  },
  {
   "cell_type": "code",
   "execution_count": 4,
   "id": "21144476",
   "metadata": {},
   "outputs": [],
   "source": [
    "#check accuracy score\n",
    "from sklearn.metrics import accuracy_score\n"
   ]
  },
  {
   "cell_type": "markdown",
   "id": "63a4b5da",
   "metadata": {},
   "source": [
    "## Accuracy measures"
   ]
  },
  {
   "cell_type": "code",
   "execution_count": 78,
   "id": "e485c86f",
   "metadata": {},
   "outputs": [],
   "source": [
    "from sklearn.metrics import precision_score, recall_score, f1_score, classification_report"
   ]
  },
  {
   "cell_type": "markdown",
   "id": "be0e5d9e",
   "metadata": {},
   "source": [
    "- print all accuracy measures:"
   ]
  },
  {
   "cell_type": "code",
   "execution_count": null,
   "id": "f2e7c6e9",
   "metadata": {},
   "outputs": [],
   "source": []
  },
  {
   "cell_type": "markdown",
   "id": "316ea538",
   "metadata": {},
   "source": [
    "## Regularization"
   ]
  },
  {
   "cell_type": "markdown",
   "id": "cc371a23",
   "metadata": {},
   "source": [
    " - Add regularization C=1 to the model\n",
    " - print accuracy"
   ]
  },
  {
   "cell_type": "code",
   "execution_count": 5,
   "id": "7635fbc3",
   "metadata": {},
   "outputs": [],
   "source": [
    "#Add regularization C=1\n",
    "\n",
    "\n"
   ]
  },
  {
   "cell_type": "markdown",
   "id": "ec7b64a7",
   "metadata": {},
   "source": [
    " - import  and use scaler in pipeline"
   ]
  },
  {
   "cell_type": "code",
   "execution_count": 6,
   "id": "462523e1",
   "metadata": {},
   "outputs": [],
   "source": [
    "#import scaler:\n",
    "from sklearn.preprocessing import StandardScaler"
   ]
  },
  {
   "cell_type": "code",
   "execution_count": 7,
   "id": "7ea298c4",
   "metadata": {},
   "outputs": [],
   "source": [
    "#Use in pipeline standarscaler:\n",
    "\n",
    "from sklearn.pipeline import Pipeline\n",
    "\n",
    "#?Pipeline\n",
    "\n"
   ]
  },
  {
   "cell_type": "markdown",
   "id": "ffc56c5a",
   "metadata": {},
   "source": [
    "- fit the pipline"
   ]
  },
  {
   "cell_type": "code",
   "execution_count": 8,
   "id": "f9d28c68",
   "metadata": {},
   "outputs": [],
   "source": [
    "#Fit the pipe\n"
   ]
  },
  {
   "cell_type": "markdown",
   "id": "6faab65f",
   "metadata": {},
   "source": [
    "- Check accuracy of model build with pipe"
   ]
  },
  {
   "cell_type": "code",
   "execution_count": 9,
   "id": "a63b9d65",
   "metadata": {},
   "outputs": [],
   "source": [
    "#Check accuracy of model build with pipe:\n"
   ]
  },
  {
   "cell_type": "markdown",
   "id": "830c49dd",
   "metadata": {},
   "source": [
    "- Evaluate an accuracy score using Cross-validation on pipeline (use the cross_val_score function)"
   ]
  },
  {
   "cell_type": "code",
   "execution_count": 10,
   "id": "8b3bc418",
   "metadata": {},
   "outputs": [],
   "source": [
    "#Crossvalidate the accuracy of this pipeline (use the cross_val_score function)\n"
   ]
  },
  {
   "cell_type": "markdown",
   "id": "3ecdd926",
   "metadata": {},
   "source": [
    "## GRID SEARCH"
   ]
  },
  {
   "cell_type": "markdown",
   "id": "6b3a29ee",
   "metadata": {},
   "source": [
    "- Apply grid search to pipline using different grid parameters: \n",
    "param_grid = {\n",
    "               \"log_reg__penalty\":[\"l2\"],\n",
    "               \"log_reg__C\":[0.1, 10,100]}\n",
    "- fit the pipline"
   ]
  },
  {
   "cell_type": "code",
   "execution_count": null,
   "id": "ad427696",
   "metadata": {},
   "outputs": [],
   "source": []
  },
  {
   "cell_type": "markdown",
   "id": "546d23a8",
   "metadata": {},
   "source": [
    "- show the best grid parameters"
   ]
  },
  {
   "cell_type": "code",
   "execution_count": null,
   "id": "8fab9ae7",
   "metadata": {},
   "outputs": [],
   "source": []
  },
  {
   "cell_type": "code",
   "execution_count": 81,
   "id": "2464a363",
   "metadata": {},
   "outputs": [],
   "source": [
    "#END "
   ]
  },
  {
   "cell_type": "code",
   "execution_count": null,
   "id": "6ae6ff5e",
   "metadata": {},
   "outputs": [],
   "source": []
  },
  {
   "cell_type": "code",
   "execution_count": null,
   "id": "06eac785",
   "metadata": {},
   "outputs": [],
   "source": []
  }
 ],
 "metadata": {
  "kernelspec": {
   "display_name": "Python 3 (ipykernel)",
   "language": "python",
   "name": "python3"
  },
  "language_info": {
   "codemirror_mode": {
    "name": "ipython",
    "version": 3
   },
   "file_extension": ".py",
   "mimetype": "text/x-python",
   "name": "python",
   "nbconvert_exporter": "python",
   "pygments_lexer": "ipython3",
   "version": "3.8.13"
  }
 },
 "nbformat": 4,
 "nbformat_minor": 5
}
